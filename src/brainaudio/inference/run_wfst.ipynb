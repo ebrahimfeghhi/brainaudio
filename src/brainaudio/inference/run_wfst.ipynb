{
 "cells": [
  {
   "cell_type": "code",
   "execution_count": 1,
   "metadata": {},
   "outputs": [],
   "source": [
    "from nemo.collections.asr.parts.submodules.wfst_decoder import RivaGpuWfstDecoder"
   ]
  },
  {
   "cell_type": "code",
   "execution_count": 2,
   "metadata": {},
   "outputs": [],
   "source": [
    "language_model_fst_path = \"/data2/brain2text/lm/TLG.fst\"\n",
    "beam_size = 18"
   ]
  },
  {
   "cell_type": "code",
   "execution_count": 4,
   "metadata": {},
   "outputs": [
    {
     "name": "stderr",
     "output_type": "stream",
     "text": [
      "ERROR: ExpandedFst::Read: Can't open file: /data2/brain2text/lm/TLG.fst\n"
     ]
    },
    {
     "ename": "AttributeError",
     "evalue": "'NoneType' object has no attribute 'input_symbols'",
     "output_type": "error",
     "traceback": [
      "\u001b[31m---------------------------------------------------------------------------\u001b[39m",
      "\u001b[31mAttributeError\u001b[39m                            Traceback (most recent call last)",
      "\u001b[36mCell\u001b[39m\u001b[36m \u001b[39m\u001b[32mIn[4]\u001b[39m\u001b[32m, line 1\u001b[39m\n\u001b[32m----> \u001b[39m\u001b[32m1\u001b[39m decoder = \u001b[43mRivaGpuWfstDecoder\u001b[49m\u001b[43m(\u001b[49m\u001b[43mlm_fst\u001b[49m\u001b[43m=\u001b[49m\u001b[43mlanguage_model_fst_path\u001b[49m\u001b[43m,\u001b[49m\u001b[43m \u001b[49m\u001b[43mdecoding_mode\u001b[49m\u001b[43m=\u001b[49m\u001b[33;43m'\u001b[39;49m\u001b[33;43mnbest\u001b[39;49m\u001b[33;43m'\u001b[39;49m\u001b[43m,\u001b[49m\u001b[43m \u001b[49m\u001b[43mbeam_size\u001b[49m\u001b[43m=\u001b[49m\u001b[43mbeam_size\u001b[49m\u001b[43m)\u001b[49m\n",
      "\u001b[36mFile \u001b[39m\u001b[32m~/brainaudio/.venv/lib/python3.12/site-packages/nemo/collections/asr/parts/submodules/wfst_decoder.py:468\u001b[39m, in \u001b[36mRivaGpuWfstDecoder.__init__\u001b[39m\u001b[34m(self, lm_fst, decoding_mode, beam_size, config, tokenword_disambig_id, lm_weight, nbest_size)\u001b[39m\n\u001b[32m    466\u001b[39m \u001b[38;5;28mself\u001b[39m._nbest_size = nbest_size\n\u001b[32m    467\u001b[39m \u001b[38;5;28mself\u001b[39m._load_word_lattice = \u001b[38;5;28;01mNone\u001b[39;00m\n\u001b[32m--> \u001b[39m\u001b[32m468\u001b[39m \u001b[38;5;28;43msuper\u001b[39;49m\u001b[43m(\u001b[49m\u001b[43m)\u001b[49m\u001b[43m.\u001b[49m\u001b[34;43m__init__\u001b[39;49m\u001b[43m(\u001b[49m\u001b[43mlm_fst\u001b[49m\u001b[43m,\u001b[49m\u001b[43m \u001b[49m\u001b[43mdecoding_mode\u001b[49m\u001b[43m,\u001b[49m\u001b[43m \u001b[49m\u001b[43mbeam_size\u001b[49m\u001b[43m,\u001b[49m\u001b[43m \u001b[49m\u001b[43mconfig\u001b[49m\u001b[43m,\u001b[49m\u001b[43m \u001b[49m\u001b[43mtokenword_disambig_id\u001b[49m\u001b[43m,\u001b[49m\u001b[43m \u001b[49m\u001b[43mlm_weight\u001b[49m\u001b[43m)\u001b[49m\n",
      "\u001b[36mFile \u001b[39m\u001b[32m~/brainaudio/.venv/lib/python3.12/site-packages/nemo/collections/asr/parts/submodules/wfst_decoder.py:295\u001b[39m, in \u001b[36mAbstractWFSTDecoder.__init__\u001b[39m\u001b[34m(self, lm_fst, decoding_mode, beam_size, config, tokenword_disambig_id, lm_weight)\u001b[39m\n\u001b[32m    293\u001b[39m \u001b[38;5;28mself\u001b[39m._set_decoding_mode(decoding_mode)\n\u001b[32m    294\u001b[39m \u001b[38;5;28mself\u001b[39m._set_decoder_config(config)\n\u001b[32m--> \u001b[39m\u001b[32m295\u001b[39m \u001b[38;5;28;43mself\u001b[39;49m\u001b[43m.\u001b[49m\u001b[43m_init_decoder\u001b[49m\u001b[43m(\u001b[49m\u001b[43m)\u001b[49m\n",
      "\u001b[36mFile \u001b[39m\u001b[32m~/brainaudio/.venv/lib/python3.12/site-packages/nemo/collections/asr/parts/submodules/wfst_decoder.py:512\u001b[39m, in \u001b[36mRivaGpuWfstDecoder._init_decoder\u001b[39m\u001b[34m(self)\u001b[39m\n\u001b[32m    509\u001b[39m     \u001b[38;5;28;01mraise\u001b[39;00m \u001b[38;5;167;01mValueError\u001b[39;00m(\u001b[33mf\u001b[39m\u001b[33m\"\u001b[39m\u001b[33mUnsupported lm_fst type: \u001b[39m\u001b[38;5;132;01m{\u001b[39;00m\u001b[38;5;28mtype\u001b[39m(lm_fst)\u001b[38;5;132;01m}\u001b[39;00m\u001b[33m\"\u001b[39m)\n\u001b[32m    511\u001b[39m \u001b[38;5;66;03m# we assume that lm_fst has at least one disambig after real tokens\u001b[39;00m\n\u001b[32m--> \u001b[39m\u001b[32m512\u001b[39m num_tokens_with_blank = \u001b[43mtmp_fst\u001b[49m\u001b[43m.\u001b[49m\u001b[43minput_symbols\u001b[49m.find(\u001b[33m'\u001b[39m\u001b[33m#0\u001b[39m\u001b[33m'\u001b[39m) - \u001b[32m1\u001b[39m\n\u001b[32m    513\u001b[39m \u001b[38;5;28;01mif\u001b[39;00m \u001b[38;5;28mself\u001b[39m._id2word \u001b[38;5;129;01mis\u001b[39;00m \u001b[38;5;28;01mNone\u001b[39;00m:\n\u001b[32m    514\u001b[39m     \u001b[38;5;28mself\u001b[39m._id2word = {\n\u001b[32m    515\u001b[39m         \u001b[38;5;28mint\u001b[39m(line.split(\u001b[33m\"\u001b[39m\u001b[38;5;130;01m\\t\u001b[39;00m\u001b[33m\"\u001b[39m)[\u001b[32m1\u001b[39m]): line.split(\u001b[33m\"\u001b[39m\u001b[38;5;130;01m\\t\u001b[39;00m\u001b[33m\"\u001b[39m)[\u001b[32m0\u001b[39m]\n\u001b[32m    516\u001b[39m         \u001b[38;5;28;01mfor\u001b[39;00m line \u001b[38;5;129;01min\u001b[39;00m \u001b[38;5;28mstr\u001b[39m(tmp_fst.output_symbols).strip().split(\u001b[33m\"\u001b[39m\u001b[38;5;130;01m\\n\u001b[39;00m\u001b[33m\"\u001b[39m)\n\u001b[32m    517\u001b[39m     }\n",
      "\u001b[31mAttributeError\u001b[39m: 'NoneType' object has no attribute 'input_symbols'"
     ]
    }
   ],
   "source": [
    "decoder = RivaGpuWfstDecoder(lm_fst=language_model_fst_path, decoding_mode='nbest', beam_size=beam_size)"
   ]
  },
  {
   "cell_type": "code",
   "execution_count": null,
   "metadata": {},
   "outputs": [],
   "source": []
  }
 ],
 "metadata": {
  "kernelspec": {
   "display_name": ".venv",
   "language": "python",
   "name": "python3"
  },
  "language_info": {
   "codemirror_mode": {
    "name": "ipython",
    "version": 3
   },
   "file_extension": ".py",
   "mimetype": "text/x-python",
   "name": "python",
   "nbconvert_exporter": "python",
   "pygments_lexer": "ipython3",
   "version": "3.12.2"
  },
  "orig_nbformat": 4
 },
 "nbformat": 4,
 "nbformat_minor": 2
}
