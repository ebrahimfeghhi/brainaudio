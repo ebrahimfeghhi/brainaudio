{
 "cells": [
  {
   "cell_type": "code",
   "execution_count": 22,
   "metadata": {},
   "outputs": [
    {
     "ename": "ModuleNotFoundError",
     "evalue": "No module named 'torchaudio'",
     "output_type": "error",
     "traceback": [
      "\u001b[0;31m---------------------------------------------------------------------------\u001b[0m",
      "\u001b[0;31mModuleNotFoundError\u001b[0m                       Traceback (most recent call last)",
      "Cell \u001b[0;32mIn[22], line 15\u001b[0m\n\u001b[1;32m     12\u001b[0m \u001b[39mfrom\u001b[39;00m\u001b[39m \u001b[39m\u001b[39mtraining\u001b[39;00m\u001b[39m.\u001b[39;00m\u001b[39mutils\u001b[39;00m\u001b[39m.\u001b[39;00m\u001b[39mloss\u001b[39;00m\u001b[39m \u001b[39m\u001b[39mimport\u001b[39;00m forward_ctc, evaluate\n\u001b[1;32m     13\u001b[0m \u001b[39mfrom\u001b[39;00m\u001b[39m \u001b[39m\u001b[39mdatasets\u001b[39;00m\u001b[39m.\u001b[39;00m\u001b[39mloading_data\u001b[39;00m\u001b[39m \u001b[39m\u001b[39mimport\u001b[39;00m getDatasetLoaders\n\u001b[0;32m---> 15\u001b[0m \u001b[39mfrom\u001b[39;00m\u001b[39m \u001b[39m\u001b[39minference\u001b[39;00m\u001b[39m.\u001b[39;00m\u001b[39minference_utils\u001b[39;00m\u001b[39m \u001b[39m\u001b[39mimport\u001b[39;00m load_model\n",
      "File \u001b[0;32m~/brainaudio/src/brainaudio/inference/inference_utils.py:11\u001b[0m\n\u001b[1;32m      9\u001b[0m \u001b[39mfrom\u001b[39;00m\u001b[39m \u001b[39m\u001b[39mtqdm\u001b[39;00m\u001b[39m \u001b[39m\u001b[39mimport\u001b[39;00m tqdm\n\u001b[1;32m     10\u001b[0m \u001b[39mfrom\u001b[39;00m\u001b[39m \u001b[39m\u001b[39mitertools\u001b[39;00m\u001b[39m \u001b[39m\u001b[39mimport\u001b[39;00m zip_longest\n\u001b[0;32m---> 11\u001b[0m \u001b[39mfrom\u001b[39;00m\u001b[39m \u001b[39m\u001b[39mtorchaudio\u001b[39;00m\u001b[39m.\u001b[39;00m\u001b[39mfunctional\u001b[39;00m\u001b[39m \u001b[39m\u001b[39mimport\u001b[39;00m forced_align\n\u001b[1;32m     12\u001b[0m \u001b[39mfrom\u001b[39;00m\u001b[39m \u001b[39m\u001b[39mtorch\u001b[39;00m\u001b[39m.\u001b[39;00m\u001b[39mnn\u001b[39;00m\u001b[39m.\u001b[39;00m\u001b[39mfunctional\u001b[39;00m\u001b[39m \u001b[39m\u001b[39mimport\u001b[39;00m log_softmax\n\u001b[1;32m     13\u001b[0m \u001b[39mimport\u001b[39;00m\u001b[39m \u001b[39m\u001b[39mtorchaudio\u001b[39;00m\u001b[39m.\u001b[39;00m\u001b[39mfunctional\u001b[39;00m\u001b[39m \u001b[39m\u001b[39mas\u001b[39;00m\u001b[39m \u001b[39m\u001b[39mF\u001b[39;00m\n",
      "\u001b[0;31mModuleNotFoundError\u001b[0m: No module named 'torchaudio'"
     ]
    }
   ],
   "source": [
    "import os\n",
    "import pickle\n",
    "import time\n",
    "import numpy as np\n",
    "import torch.nn.functional as F\n",
    "from itertools import zip_longest\n",
    "\n",
    "# brainaudio internal package imports\n",
    "import sys\n",
    "sys.path.append(\"/home3/ebrahim/brainaudio/src/brainaudio/\")\n",
    "from training.utils.augmentations import gauss_smooth\n",
    "from training.utils.loss import forward_ctc, evaluate\n",
    "from datasets.loading_data import getDatasetLoaders\n",
    "from inference.inference_utils import load_model"
   ]
  },
  {
   "cell_type": "code",
   "execution_count": 10,
   "metadata": {},
   "outputs": [],
   "source": [
    "model_name = [\"transformer_shortened_held_out_days_big_seed_0\"]\n",
    "\n",
    "blank_id = 0\n",
    "num_classes = 41\n",
    "\n",
    "# no tta\n",
    "baseline_args = {\n",
    "    'dropout': 0, \n",
    "    'input_dropout': 0, \n",
    "    'max_mask_pct': 0, \n",
    "    'num_masks': 0, \n",
    "    'gru': False, \n",
    "    'max_day': 14,\n",
    "    'repeats': [1]\n",
    "}\n",
    "\n",
    "# corp\n",
    "corp_args = {\n",
    "    'learning_rate': [1e-3], \n",
    "    'repeats': [64],\n",
    "    'adaptation_steps': 1,\n",
    "    'WN+BS': True,\n",
    "    'white_noise': 0.2,\n",
    "    'baseline_shift': 0.05,\n",
    "    'dropout': 0.35, \n",
    "    'input_dropout': 0.2, \n",
    "    'l2_decay': 1e-5, \n",
    "    'max_mask_pct': 0.075, \n",
    "    'num_masks': 20, \n",
    "    'freeze_patch': False,\n",
    "    'freeze_linear': True,\n",
    "    'gru': True, \n",
    "    'max_day': None\n",
    "}\n",
    "\n",
    "tta_mode = 'corp'\n",
    "\n",
    "if tta_mode == 'corp':\n",
    "    updated_args = corp_args  \n",
    "else:\n",
    "    updated_args = baseline_args\n",
    "    \n"
   ]
  },
  {
   "cell_type": "code",
   "execution_count": null,
   "metadata": {},
   "outputs": [],
   "source": [
    "load_model()"
   ]
  },
  {
   "cell_type": "code",
   "execution_count": 9,
   "metadata": {},
   "outputs": [
    {
     "name": "stdout",
     "output_type": "stream",
     "text": [
      "64 transformer\n"
     ]
    }
   ],
   "source": [
    "for n_augs in updated_args['repeats']:\n",
    "    for mn, model_name_str in enumerate(model_name):\n",
    "    \n",
    "        print(n_augs, model_name_str)"
   ]
  },
  {
   "cell_type": "code",
   "execution_count": null,
   "metadata": {},
   "outputs": [],
   "source": []
  }
 ],
 "metadata": {
  "kernelspec": {
   "display_name": ".wfst",
   "language": "python",
   "name": "python3"
  },
  "language_info": {
   "codemirror_mode": {
    "name": "ipython",
    "version": 3
   },
   "file_extension": ".py",
   "mimetype": "text/x-python",
   "name": "python",
   "nbconvert_exporter": "python",
   "pygments_lexer": "ipython3",
   "version": "3.9.24"
  },
  "orig_nbformat": 4
 },
 "nbformat": 4,
 "nbformat_minor": 2
}
