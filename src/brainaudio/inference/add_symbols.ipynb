{
 "cells": [
  {
   "cell_type": "code",
   "execution_count": null,
   "metadata": {},
   "outputs": [],
   "source": [
    "import kaldifst\n",
    "language_model_path =  \"/data/code/nejm-brain-to-text/language_model/pretrained_language_models/openwebtext_1gram_lm_sil/TLG.fst\"\n",
    "tokens_txt = \"/data/code/nejm-brain-to-text/language_model/pretrained_language_models/openwebtext_1gram_lm_sil/tokens.txt\"\n",
    "words_txt = \"/data/code/nejm-brain-to-text/language_model/pretrained_language_models/openwebtext_1gram_lm_sil/words.txt\"\n",
    "fst = kaldifst.StdVectorFst.read(language_model_path)\n",
    "input_sym = kaldifst.SymbolTable.read_text(tokens_txt)\n",
    "output_sym = kaldifst.SymbolTable.read_text(words_txt)\n",
    "fst.input_symbols = input_sym\n",
    "fst.output_symbols = output_sym\n",
    "fst.write(\"/data/code/nejm-brain-to-text/language_model/pretrained_language_models/openwebtext_1gram_lm_sil/TLG_with_symbols.fst\")\n",
    " "
   ]
  }
 ],
 "metadata": {
  "language_info": {
   "name": "python"
  },
  "orig_nbformat": 4
 },
 "nbformat": 4,
 "nbformat_minor": 2
}
