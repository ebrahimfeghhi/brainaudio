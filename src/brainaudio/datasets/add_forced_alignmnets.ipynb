{
 "cells": [
  {
   "cell_type": "code",
   "execution_count": null,
   "metadata": {},
   "outputs": [],
   "source": [
    "import pandas as pd\n",
    "import numpy as np\n",
    "import pickle\n",
    "from brainaudio.utils.config import B2T24_ALIGN_TRAIN, B2T24_ALIGN_VAL, B2T25_PKL, B2T25_ALIGN_TRAIN, B2T25_ALIGN_VAL, B2T24_WITH_FA, B2T25_WITH_FA "
   ]
  },
  {
   "cell_type": "code",
   "execution_count": null,
   "metadata": {},
   "outputs": [],
   "source": [
    "brain2text_24_data = pd.read_pickle(\"/data2/brain2text/b2t_24/brain2text24\")\n",
    "alignments_24_train = pd.read_pickle(B2T24_ALIGN_TRAIN)\n",
    "alignments_24_val = pd.read_pickle(B2T24_ALIGN_VAL)\n",
    "\n",
    "brain2text_25_data = pd.read_pickle(B2T25_PKL)\n",
    "alignments_25_train = pd.read_pickle(B2T25_ALIGN_TRAIN)\n",
    "alignments_25_val = pd.read_pickle(B2T25_ALIGN_VAL)"
   ]
  },
  {
   "cell_type": "code",
   "execution_count": 4,
   "metadata": {},
   "outputs": [],
   "source": [
    "def convert_alignments_to_dict(alignments):\n",
    "    \n",
    "    \"\"\"Converts alignments into a dict with keys as word end frames and values as words.\n",
    "    \n",
    "    Parameters\n",
    "    ----------\n",
    "    alignments_list: list\n",
    "        A list containing the forced alignments for all trials from a given day.\n",
    "        Each element in the list contains information for a given trial, also organized \n",
    "        as a list. Each trial list is formatted so that each element is a list containing\n",
    "        three elements: [word_start_frame, word_end_frame, word_text], where frame denotes \n",
    "        the index of the model output. \n",
    "        \n",
    "    Returns \n",
    "    -------\n",
    "    list\n",
    "        Returns a list of dicts. Each dict is formatted so that the word_end_frames are keys\n",
    "        and the values are the corresponding word. \n",
    "    \"\"\"\n",
    "        \n",
    "    alignments_as_dict = []\n",
    "    \n",
    "    for trial_level_alignment in alignments:\n",
    "        \n",
    "        trial_level_dict = {}\n",
    "        \n",
    "        for word_level_alignment in trial_level_alignment:\n",
    "            \n",
    "            word_end = word_level_alignment[1]\n",
    "            word = word_level_alignment[2]\n",
    "            \n",
    "            if word == 'SIL':\n",
    "                continue\n",
    "            \n",
    "            trial_level_dict[word_end] = word\n",
    "            \n",
    "            \n",
    "        alignments_as_dict.append(trial_level_dict)\n",
    "        \n",
    "    return alignments_as_dict\n",
    "\n",
    "\n",
    "\n",
    "def save_with_alignments(brain2text_data, alignments):\n",
    "    \n",
    "    \"\"\"\n",
    "    Reformat and save alignments into the origial pkl dataset.\n",
    "    \"\"\"\n",
    "    \n",
    "    b2t_with_fa = []\n",
    "    \n",
    "    for dayIdx, day in enumerate(brain2text_data):\n",
    "        \n",
    "        if dayIdx in alignments.keys():\n",
    "            day_specific_forced_alignments = alignments[dayIdx]\n",
    "            \n",
    "            # make sure that the number of trials is the same\n",
    "            assert len(day_specific_forced_alignments) == len(day['sentenceDat'])\n",
    "            \n",
    "            day[\"forced_alignments\"] = convert_alignments_to_dict(day_specific_forced_alignments)\n",
    "            \n",
    "        b2t_with_fa.append(day)\n",
    "        \n",
    "    return b2t_with_fa"
   ]
  },
  {
   "cell_type": "code",
   "execution_count": 5,
   "metadata": {},
   "outputs": [],
   "source": [
    "b2t_24_with_fa_train = save_with_alignments(brain2text_24_data[\"train\"], alignments_24_train)\n",
    "b2t_24_with_fa_val = save_with_alignments(brain2text_24_data[\"val\"], alignments_24_val)\n",
    "\n",
    "b2t_25_with_fa_train = save_with_alignments(brain2text_25_data[\"train\"], alignments_25_train)\n",
    "b2t_25_with_fa_val = save_with_alignments(brain2text_25_data[\"val\"], alignments_25_val)"
   ]
  },
  {
   "cell_type": "code",
   "execution_count": null,
   "metadata": {},
   "outputs": [],
   "source": [
    "brain2text_24_data[\"train\"] = b2t_24_with_fa_train\n",
    "brain2text_24_data[\"val\"] = b2t_24_with_fa_val\n",
    "\n",
    "with open(B2T24_WITH_FA, \"wb\") as handle:\n",
    "    pickle.dump(brain2text_24_data, handle)\n",
    "    \n",
    "    \n",
    "brain2text_25_data[\"train\"] = b2t_25_with_fa_train\n",
    "brain2text_25_data[\"val\"] = b2t_25_with_fa_val\n",
    "\n",
    "with open(B2T25_WITH_FA, \"wb\") as handle:\n",
    "    pickle.dump(brain2text_25_data, handle)\n",
    "    "
   ]
  }
 ],
 "metadata": {
  "kernelspec": {
   "display_name": ".venv",
   "language": "python",
   "name": "python3"
  },
  "language_info": {
   "codemirror_mode": {
    "name": "ipython",
    "version": 3
   },
   "file_extension": ".py",
   "mimetype": "text/x-python",
   "name": "python",
   "nbconvert_exporter": "python",
   "pygments_lexer": "ipython3",
   "version": "3.12.2"
  },
  "orig_nbformat": 4
 },
 "nbformat": 4,
 "nbformat_minor": 2
}
