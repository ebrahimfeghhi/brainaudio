{
 "cells": [
  {
   "cell_type": "code",
   "execution_count": 13,
   "metadata": {},
   "outputs": [],
   "source": [
    "import numpy as np\n",
    "import pandas as pd"
   ]
  },
  {
   "cell_type": "code",
   "execution_count": 17,
   "metadata": {},
   "outputs": [],
   "source": [
    "new_data = pd.read_pickle('/data3/brain2text/b2t_24/brain2text24_log')\n",
    "old_data = pd.read_pickle('/data/willett_data/ptDecoder_ctc_both')"
   ]
  },
  {
   "cell_type": "code",
   "execution_count": 25,
   "metadata": {},
   "outputs": [
    {
     "name": "stdout",
     "output_type": "stream",
     "text": [
      "0.116429985\n",
      "0.11642999\n",
      "1.0219588\n",
      "1.0219588\n"
     ]
    }
   ],
   "source": [
    "print(np.mean(new_data['train'][0]['sentenceDat'][1]))\n",
    "print(np.mean(old_data['train'][0]['sentenceDat'][1]))\n",
    "print(np.std(new_data['train'][0]['sentenceDat'][1]))\n",
    "print(np.std(old_data['train'][0]['sentenceDat'][1]))"
   ]
  },
  {
   "cell_type": "code",
   "execution_count": 21,
   "metadata": {},
   "outputs": [
    {
     "name": "stdout",
     "output_type": "stream",
     "text": [
      "0.094650164\n"
     ]
    }
   ],
   "source": [
    "print(np.mean(old_data['train'][0]['sentenceDat'][0]))"
   ]
  },
  {
   "cell_type": "code",
   "execution_count": null,
   "metadata": {},
   "outputs": [],
   "source": []
  }
 ],
 "metadata": {
  "kernelspec": {
   "display_name": "brainaudio",
   "language": "python",
   "name": "python3"
  },
  "language_info": {
   "codemirror_mode": {
    "name": "ipython",
    "version": 3
   },
   "file_extension": ".py",
   "mimetype": "text/x-python",
   "name": "python",
   "nbconvert_exporter": "python",
   "pygments_lexer": "ipython3",
   "version": "3.8.10"
  },
  "orig_nbformat": 4
 },
 "nbformat": 4,
 "nbformat_minor": 2
}
