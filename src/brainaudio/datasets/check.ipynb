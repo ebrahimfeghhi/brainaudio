{
 "cells": [
  {
   "cell_type": "code",
   "execution_count": null,
   "metadata": {},
   "outputs": [],
   "source": [
    "import numpy as np\n",
    "import pandas as pd\n",
    "from brainaudio.utils.config import B2T_DATA3_24, B2T_PTDECODER"
   ]
  },
  {
   "cell_type": "code",
   "execution_count": null,
   "metadata": {},
   "outputs": [],
   "source": [
    "new_data = pd.read_pickle(B2T_DATA3_24)\n",
    "old_data = pd.read_pickle(B2T_PTDECODER)"
   ]
  },
  {
   "cell_type": "code",
   "execution_count": 25,
   "metadata": {},
   "outputs": [
    {
     "name": "stdout",
     "output_type": "stream",
     "text": [
      "0.116429985\n",
      "0.11642999\n",
      "1.0219588\n",
      "1.0219588\n"
     ]
    }
   ],
   "source": [
    "print(np.mean(new_data['train'][0]['sentenceDat'][1]))\n",
    "print(np.mean(old_data['train'][0]['sentenceDat'][1]))\n",
    "print(np.std(new_data['train'][0]['sentenceDat'][1]))\n",
    "print(np.std(old_data['train'][0]['sentenceDat'][1]))"
   ]
  },
  {
   "cell_type": "code",
   "execution_count": 21,
   "metadata": {},
   "outputs": [
    {
     "name": "stdout",
     "output_type": "stream",
     "text": [
      "0.094650164\n"
     ]
    }
   ],
   "source": [
    "print(np.mean(old_data['train'][0]['sentenceDat'][0]))"
   ]
  },
  {
   "cell_type": "code",
   "execution_count": null,
   "metadata": {},
   "outputs": [],
   "source": []
  }
 ],
 "metadata": {
  "kernelspec": {
   "display_name": "Python 3",
   "language": "python",
   "name": "python3"
  },
  "language_info": {
   "codemirror_mode": {
    "name": "ipython",
    "version": 3
   },
   "file_extension": ".py",
   "mimetype": "text/x-python",
   "name": "python",
   "nbconvert_exporter": "python",
   "pygments_lexer": "ipython3",
   "version": "3.12.0"
  },
  "orig_nbformat": 4
 },
 "nbformat": 4,
 "nbformat_minor": 2
}
