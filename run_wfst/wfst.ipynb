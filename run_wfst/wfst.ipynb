{
 "cells": [
  {
   "cell_type": "code",
   "execution_count": 1,
   "metadata": {},
   "outputs": [],
   "source": [
    "# do a hacky import since brainaudio requires python 3.12 and the .wfst env requires an older\n",
    "# python version \n",
    "import sys\n",
    "sys.path.append()\n",
    "from wfst_utils import build_lm_decoder\n",
    "import numpy as np"
   ]
  },
  {
   "cell_type": "code",
   "execution_count": null,
   "metadata": {},
   "outputs": [],
   "source": [
    "lmDir = \"/data2/brain2text/languageModel\"\n",
    "acoustic_scale = 0.8\n",
    "nbest = 1\n",
    "blank_penalty = np.log(2)\n",
    "\n",
    "ngramDecoder = build_lm_decoder(\n",
    "    lmDir,\n",
    "    acoustic_scale=acoustic_scale, #1.2\n",
    "    nbest=nbest,\n",
    "    beam=18\n",
    ")\n",
    "print(\"loaded LM\")"
   ]
  },
  {
   "cell_type": "code",
   "execution_count": null,
   "metadata": {},
   "outputs": [],
   "source": []
  }
 ],
 "metadata": {
  "kernelspec": {
   "display_name": ".wfst",
   "language": "python",
   "name": "python3"
  },
  "language_info": {
   "codemirror_mode": {
    "name": "ipython",
    "version": 3
   },
   "file_extension": ".py",
   "mimetype": "text/x-python",
   "name": "python",
   "nbconvert_exporter": "python",
   "pygments_lexer": "ipython3",
   "version": "3.9.24"
  },
  "orig_nbformat": 4
 },
 "nbformat": 4,
 "nbformat_minor": 2
}
