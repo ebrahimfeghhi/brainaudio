{
 "cells": [
  {
   "cell_type": "code",
   "execution_count": 7,
   "metadata": {},
   "outputs": [],
   "source": [
    "import pandas as pd\n",
    "import numpy as np\n",
    "from brainaudio.utils.config import (B2T24_ALIGN_TRAIN, B2T25_ALIGN_TRAIN)"
   ]
  },
  {
   "cell_type": "code",
   "execution_count": null,
   "metadata": {},
   "outputs": [
    {
     "data": {
      "text/plain": [
       "dict_keys([0, 1, 2, 3, 4, 5, 6, 7, 8, 9, 10, 11, 12, 13, 14, 15, 16, 17, 18, 19, 20, 21, 22, 23])"
      ]
     },
     "execution_count": 7,
     "metadata": {},
     "output_type": "execute_result"
    }
   ],
   "source": [
    "alignments_path = B2T24_ALIGN_TRAIN\n",
    "alignments_24 = pd.read_pickle(alignments_path)\n",
    "alignments_24.keys()"
   ]
  },
  {
   "cell_type": "code",
   "execution_count": null,
   "metadata": {},
   "outputs": [
    {
     "data": {
      "text/plain": [
       "dict_keys([0, 1, 2, 3, 4, 5, 6, 7, 8, 9, 10, 11, 12, 13, 14, 15, 16, 17, 18, 19, 20, 21, 22, 23, 24, 25, 26, 27, 28, 29, 30, 31, 32, 33, 34, 35, 36, 37, 38, 39, 40, 41, 42, 43, 44])"
      ]
     },
     "execution_count": 8,
     "metadata": {},
     "output_type": "execute_result"
    }
   ],
   "source": [
    "alignments_path = B2T25_ALIGN_TRAIN\n",
    "alignments_25 = pd.read_pickle(alignments_path)\n",
    "alignments_25.keys()"
   ]
  },
  {
   "cell_type": "code",
   "execution_count": 10,
   "metadata": {},
   "outputs": [
    {
     "data": {
      "text/plain": [
       "[[19, 30, 'Nuclear'],\n",
       " [30, 31, 'SIL'],\n",
       " [31, 43, 'rockets'],\n",
       " [43, 44, 'SIL'],\n",
       " [44, 49, 'can'],\n",
       " [49, 50, 'SIL'],\n",
       " [50, 64, 'destroy'],\n",
       " [65, 66, 'SIL'],\n",
       " [70, 84, 'airfields'],\n",
       " [84, 85, 'SIL'],\n",
       " [88, 94, 'with'],\n",
       " [94, 95, 'SIL'],\n",
       " [99, 105, 'ease.'],\n",
       " [105, 106, 'SIL']]"
      ]
     },
     "execution_count": 10,
     "metadata": {},
     "output_type": "execute_result"
    }
   ],
   "source": [
    "alignments_24[0][0]"
   ]
  },
  {
   "cell_type": "code",
   "execution_count": 12,
   "metadata": {},
   "outputs": [],
   "source": [
    "word_info_dict = {30: 'Nuclear', 43: 'rockets', 49: 'can.'}"
   ]
  },
  {
   "cell_type": "code",
   "execution_count": null,
   "metadata": {},
   "outputs": [],
   "source": [
    "T = 110\n",
    "llm_inputs = []\n",
    "projected_outputs = np.zeros((110, 384)) # final encoder layer \n",
    "EOS_TOKEN = \"<eos>\"\n",
    "BOS_TOKEN = \"<bos>\"\n",
    "\n",
    "for i in range(T):\n",
    "    llm_inputs.append(projected_outputs[i])\n",
    "        \n",
    "    if i in word_info_dict.keys():\n",
    "        \n",
    "        if i == word_info_dict.keys()[0]:\n",
    "            word = f\"{BOS_TOKEN}{word_info_dict[i]}\"\n",
    "        \n",
    "        elif i == word_info_dict.keys()[-1]:\n",
    "            word = f\"{word_info_dict[i]}{EOS_TOKEN}\" \n",
    "        else:  \n",
    "            word = f\"{word_info_dict[i]} \" \n",
    "            \n",
    "        # tokenize word + get embedding vectors \n",
    "        embeddings = np.zeros((1,384))\n",
    "        llm_inputs.append(embeddings)\n",
    "        \n",
    "        "
   ]
  }
 ],
 "metadata": {
  "kernelspec": {
   "display_name": ".venv",
   "language": "python",
   "name": "python3"
  },
  "language_info": {
   "codemirror_mode": {
    "name": "ipython",
    "version": 3
   },
   "file_extension": ".py",
   "mimetype": "text/x-python",
   "name": "python",
   "nbconvert_exporter": "python",
   "pygments_lexer": "ipython3",
   "version": "3.12.0"
  },
  "orig_nbformat": 4
 },
 "nbformat": 4,
 "nbformat_minor": 2
}
