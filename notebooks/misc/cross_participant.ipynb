{
 "cells": [
  {
   "cell_type": "code",
   "execution_count": null,
   "metadata": {},
   "outputs": [],
   "source": [
    "import torch \n",
    "import sys\n",
    "sys.path.append('/home3/ebrahim2/brainaudio/')\n",
    "from training.utils.loading_data import getDatasetLoaders\n",
    "from itertools import zip_longest \n",
    "import tqdm\n",
    "from brainaudio.utils.config import B2T_DATA3_24, B2T_DATA3_25"
   ]
  },
  {
   "cell_type": "code",
   "execution_count": null,
   "metadata": {},
   "outputs": [],
   "source": [
    "trainLoader_24, testLoader_24, loadedData_24 = getDatasetLoaders(\n",
    "    B2T_DATA3_24,\n",
    "    64\n",
    ")\n",
    "\n",
    "trainLoader_25, testLoader_25, loadedData_25 = getDatasetLoaders(\n",
    "    B2T_DATA3_25,\n",
    "    64\n",
    ")\n"
   ]
  },
  {
   "cell_type": "code",
   "execution_count": 23,
   "metadata": {},
   "outputs": [],
   "source": [
    "dataLoaders = [trainLoader_25]"
   ]
  },
  {
   "cell_type": "code",
   "execution_count": 24,
   "metadata": {},
   "outputs": [],
   "source": [
    "max_len = max(len(loader) for loader in dataLoaders)"
   ]
  },
  {
   "cell_type": "code",
   "execution_count": 29,
   "metadata": {},
   "outputs": [
    {
     "name": "stdout",
     "output_type": "stream",
     "text": [
      "127\n"
     ]
    }
   ],
   "source": [
    "print(max_len)"
   ]
  },
  {
   "cell_type": "code",
   "execution_count": 25,
   "metadata": {},
   "outputs": [
    {
     "name": "stderr",
     "output_type": "stream",
     "text": [
      "Training Epoch:   0%|          | 0/127 [00:00<?, ?it/s]"
     ]
    }
   ],
   "source": [
    "train_loop = tqdm.tqdm(\n",
    "    zip_longest(*dataLoaders), \n",
    "    total=max_len, \n",
    "    desc=\"Training Epoch\"\n",
    ")"
   ]
  },
  {
   "cell_type": "code",
   "execution_count": 28,
   "metadata": {},
   "outputs": [
    {
     "name": "stdout",
     "output_type": "stream",
     "text": [
      "0 0\n"
     ]
    }
   ],
   "source": [
    "b24_counter = 0\n",
    "b25_counter = 0\n",
    "for batch_idx, batches in enumerate(train_loop):\n",
    "    \n",
    "    for idx, batch in enumerate(batches):\n",
    "        \n",
    "        if batch is not None:\n",
    "        \n",
    "            if idx == 0:\n",
    "                b24_counter += 1\n",
    "            if idx == 1:\n",
    "                b25_counter += 1\n",
    "                \n",
    "print(b24_counter, b25_counter)\n",
    "            "
   ]
  },
  {
   "cell_type": "code",
   "execution_count": null,
   "metadata": {},
   "outputs": [],
   "source": []
  }
 ],
 "metadata": {
  "kernelspec": {
   "display_name": "brainaudio",
   "language": "python",
   "name": "python3"
  },
  "language_info": {
   "codemirror_mode": {
    "name": "ipython",
    "version": 3
   },
   "file_extension": ".py",
   "mimetype": "text/x-python",
   "name": "python",
   "nbconvert_exporter": "python",
   "pygments_lexer": "ipython3",
   "version": "3.12.9"
  },
  "orig_nbformat": 4
 },
 "nbformat": 4,
 "nbformat_minor": 2
}
