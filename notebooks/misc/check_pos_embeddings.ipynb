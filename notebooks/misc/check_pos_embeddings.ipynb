{
 "cells": [
  {
   "cell_type": "code",
   "execution_count": 43,
   "metadata": {},
   "outputs": [
    {
     "name": "stdout",
     "output_type": "stream",
     "text": [
      "i shape: torch.Size([5, 1])\n",
      "j shape: torch.Size([1, 5])\n",
      "i-j\n",
      "tensor([[ 0, -1, -2, -3, -4],\n",
      "        [ 1,  0, -1, -2, -3],\n",
      "        [ 2,  1,  0, -1, -2],\n",
      "        [ 3,  2,  1,  0, -1],\n",
      "        [ 4,  3,  2,  1,  0]])\n",
      "rel pos clamped\n",
      "tensor([[ 0, -1, -2, -2, -2],\n",
      "        [ 1,  0, -1, -2, -2],\n",
      "        [ 2,  1,  0, -1, -2],\n",
      "        [ 2,  2,  1,  0, -1],\n",
      "        [ 2,  2,  2,  1,  0]])\n",
      "rel pos\n",
      "tensor([[2, 1, 0, 0, 0],\n",
      "        [3, 2, 1, 0, 0],\n",
      "        [4, 3, 2, 1, 0],\n",
      "        [4, 4, 3, 2, 1],\n",
      "        [4, 4, 4, 3, 2]])\n",
      "Embedding(5, 1)\n"
     ]
    }
   ],
   "source": [
    "import torch\n",
    "import torch.nn as nn\n",
    "\n",
    "seq_len = 5\n",
    "device = 'cpu'   \n",
    "max_rel_dist = 3\n",
    "i = torch.arange(seq_len, device=device).unsqueeze(1)\n",
    "print(f\"i shape: {i.shape}\")\n",
    "j = torch.arange(seq_len, device=device).unsqueeze(0)\n",
    "print(f\"j shape: {j.shape}\")\n",
    "\n",
    "\"\"\"\n",
    "row n, column m is the nth element of i - the mth element of j\n",
    "so i-j[0,0] should be 0 - 0 = 0, and i-j[3,1] should be 3 - 1 = 2.\n",
    "\"\"\"\n",
    "print(\"i-j\")\n",
    "print(i-j)\n",
    "\n",
    "rel_pos_clamped = (i - j).clamp(-max_rel_dist + 1, max_rel_dist - 1) \n",
    "\n",
    "print(\"rel pos clamped\")\n",
    "print(rel_pos_clamped) \n",
    "\n",
    "\n",
    "rel_pos = (i - j).clamp(-max_rel_dist + 1, max_rel_dist - 1) + max_rel_dist - 1\n",
    "print(\"rel pos\")\n",
    "print(rel_pos) \n",
    "\n",
    "rel_pos_bias = nn.Embedding(2 * max_rel_dist - 1, 1)\n",
    "rel_bias = rel_pos_bias(rel_pos).squeeze(-1).unsqueeze(0).unsqueeze(0) # shap seq_len x seq_len\n",
    "\n"
   ]
  },
  {
   "cell_type": "code",
   "execution_count": null,
   "metadata": {},
   "outputs": [],
   "source": [
    "rel_pos = (i - j).clamp(-max_rel_dist + 1, max_rel_dist - 1) + max_rel_dist - 1\n",
    "print(f\"rel pos shape: {rel_pos.shape}\")\n",
    "\n",
    "rel_pos_bias = nn.Embedding(2 * max_rel_dist - 1, 1)\n",
    "rel_bias = rel_pos_bias(rel_pos).squeeze(-1).unsqueeze(0).unsqueeze(0) # shap seq_len x seq_len"
   ]
  },
  {
   "cell_type": "code",
   "execution_count": 26,
   "metadata": {},
   "outputs": [
    {
     "name": "stdout",
     "output_type": "stream",
     "text": [
      "tensor([[ 0, -1, -2, -3, -4],\n",
      "        [ 1,  0, -1, -2, -3],\n",
      "        [ 2,  1,  0, -1, -2],\n",
      "        [ 3,  2,  1,  0, -1],\n",
      "        [ 4,  3,  2,  1,  0]])\n"
     ]
    }
   ],
   "source": [
    "print(i-j)"
   ]
  },
  {
   "cell_type": "code",
   "execution_count": 22,
   "metadata": {},
   "outputs": [
    {
     "name": "stdout",
     "output_type": "stream",
     "text": [
      "torch.Size([100, 100])\n"
     ]
    }
   ],
   "source": [
    "print(rel_pos.shape)"
   ]
  },
  {
   "cell_type": "code",
   "execution_count": 18,
   "metadata": {},
   "outputs": [
    {
     "name": "stdout",
     "output_type": "stream",
     "text": [
      "tensor([[49, 48, 47,  ...,  0,  0,  0],\n",
      "        [50, 49, 48,  ...,  0,  0,  0],\n",
      "        [51, 50, 49,  ...,  0,  0,  0],\n",
      "        ...,\n",
      "        [98, 98, 98,  ..., 49, 48, 47],\n",
      "        [98, 98, 98,  ..., 50, 49, 48],\n",
      "        [98, 98, 98,  ..., 51, 50, 49]])\n"
     ]
    }
   ],
   "source": [
    "print(rel_pos)"
   ]
  },
  {
   "cell_type": "code",
   "execution_count": 15,
   "metadata": {},
   "outputs": [],
   "source": []
  },
  {
   "cell_type": "code",
   "execution_count": 17,
   "metadata": {},
   "outputs": [
    {
     "data": {
      "text/plain": [
       "tensor([[-0.0653,  2.3162,  0.6533,  ..., -0.7825, -0.7825, -0.7825],\n",
       "        [ 0.4292, -0.0653,  2.3162,  ..., -0.7825, -0.7825, -0.7825],\n",
       "        [ 0.6551,  0.4292, -0.0653,  ..., -0.7825, -0.7825, -0.7825],\n",
       "        ...,\n",
       "        [ 0.5992,  0.5992,  0.5992,  ..., -0.0653,  2.3162,  0.6533],\n",
       "        [ 0.5992,  0.5992,  0.5992,  ...,  0.4292, -0.0653,  2.3162],\n",
       "        [ 0.5992,  0.5992,  0.5992,  ...,  0.6551,  0.4292, -0.0653]],\n",
       "       grad_fn=<SelectBackward0>)"
      ]
     },
     "execution_count": 17,
     "metadata": {},
     "output_type": "execute_result"
    }
   ],
   "source": [
    "rel_bias[0,0]"
   ]
  },
  {
   "cell_type": "code",
   "execution_count": null,
   "metadata": {},
   "outputs": [],
   "source": []
  }
 ],
 "metadata": {
  "kernelspec": {
   "display_name": ".venv",
   "language": "python",
   "name": "python3"
  },
  "language_info": {
   "codemirror_mode": {
    "name": "ipython",
    "version": 3
   },
   "file_extension": ".py",
   "mimetype": "text/x-python",
   "name": "python",
   "nbconvert_exporter": "python",
   "pygments_lexer": "ipython3",
   "version": "3.12.2"
  },
  "orig_nbformat": 4
 },
 "nbformat": 4,
 "nbformat_minor": 2
}
