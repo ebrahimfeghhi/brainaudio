{
 "cells": [
  {
   "cell_type": "code",
   "execution_count": null,
   "metadata": {},
   "outputs": [],
   "source": []
  },
  {
   "cell_type": "code",
   "execution_count": 42,
   "metadata": {},
   "outputs": [],
   "source": [
    "language_model_path = \"/data2/brain2text/lm/languageModel/\"\n",
    "units_txt_file = f\"{language_model_path}units.txt\"\n",
    "\n",
    "with open(units_txt_file, mode=\"r\") as f:\n",
    "\n",
    "    units_original = f.readlines()\n",
    "    \n",
    "units = [\"-\"]\n",
    "for line in units_original:\n",
    "    units.append(line.split(' ')[0])\n",
    "units.append(\"|\")\n",
    "\n",
    "units_txt_file_pytorch = f\"{language_model_path}units_pytorch.txt\"\n",
    "\n",
    "with open(units_txt_file_pytorch, mode=\"w\") as file:\n",
    "    \n",
    "    for item in units:\n",
    "        file.write(f\"{item}\\n\")\n",
    "    \n",
    "    \n",
    "lexicon_file = f\"{language_model_path}lexicon_numbers.txt\"\n",
    "\n",
    "with open(lexicon_file, mode=\"r\") as f:\n",
    "\n",
    "    lexicon_original = f.readlines()\n",
    "\n",
    "lexicon = []\n",
    "for word in lexicon_original:\n",
    "    \n",
    "    word_txt = word.split(\" \")[0]\n",
    "    word_numbers = word.replace(\"\\n\", \"\").split(' ')[1:]\n",
    "    word_number_str = f\"{word_txt.lower()}\"\n",
    "    \n",
    "    for wn in word_numbers:\n",
    "        word_number_str += f\" {units[int(wn)]}\"\n",
    "        \n",
    "    word_number_str += \" |\"\n",
    "    lexicon.append(word_number_str)\n",
    "\n",
    "lexicon_phonemes_file = f\"{language_model_path}lexicon_phonemes.txt\"\n",
    "\n",
    "        \n",
    "with open(lexicon_phonemes_file, mode=\"w\") as file:\n",
    "    \n",
    "    for item in lexicon:\n",
    "\n",
    "        file.write(f\"{item}\\n\")\n"
   ]
  },
  {
   "cell_type": "code",
   "execution_count": 46,
   "metadata": {},
   "outputs": [
    {
     "name": "stdout",
     "output_type": "stream",
     "text": [
      "['<sp>', '!', ',', '.', '?', \"'\", 'a', 'b', 'c', 'd', 'e', 'f', 'g', 'h', 'i', 'j', 'k', 'l', 'm', 'n', 'o', 'p', 'q', 'r', 's', 't', 'u', 'v', 'w', 'x', 'y', 'z']\n",
      "-\n",
      "|\n",
      "!\n",
      ",\n",
      ".\n",
      "?\n",
      "'\n",
      "a\n",
      "b\n",
      "c\n",
      "d\n",
      "e\n",
      "f\n",
      "g\n",
      "h\n",
      "i\n",
      "j\n",
      "k\n",
      "l\n",
      "m\n",
      "n\n",
      "o\n",
      "p\n",
      "q\n",
      "r\n",
      "s\n",
      "t\n",
      "u\n",
      "v\n",
      "w\n",
      "x\n",
      "y\n",
      "z\n"
     ]
    }
   ],
   "source": [
    "CHAR_VOCAB = [\n",
    "    \"<sp>\",          # space token\n",
    "    \"!\", \",\", \".\", \"?\", \"'\",   # punctuation (incl. apostrophe)\n",
    "] + [chr(i) for i in range(ord('a'), ord('z') + 1)]  # 'a'..'z'\n",
    "\n",
    "# Build mappings\n",
    "_CHAR_TO_ID = {c: i for i, c in enumerate(CHAR_VOCAB)}\n",
    "_ID_TO_CHAR = {i: c for c, i in _CHAR_TO_ID.items()}\n",
    "\n",
    "# Convenience indices\n",
    "SPACE_ID = _CHAR_TO_ID[\"<sp>\"]\n",
    "\n",
    "print(CHAR_VOCAB)\n",
    "\n",
    "\n",
    "character_units = [\"-\"]\n",
    "for cv in CHAR_VOCAB:\n",
    "    \n",
    "    if cv == \"<sp>\":\n",
    "        character_units.append(\"|\")\n",
    "    else:\n",
    "        character_units.append(cv)\n",
    "        \n",
    "units_txt_file_pytorch_char = f\"{language_model_path}units_pytorch_character.txt\"\n",
    "\n",
    "with open(units_txt_file_pytorch_char, mode=\"w\") as file:\n",
    "    \n",
    "    for item in character_units:\n",
    "        print(item)\n",
    "        file.write(f\"{item}\\n\")\n",
    "        \n",
    "import string\n",
    "lexicon_char = []\n",
    "allowed_punctuation = \"!,.'?'\"\n",
    "allowed_chars = set(string.ascii_letters + allowed_punctuation)\n",
    "for word in lexicon_original:\n",
    "    \n",
    "    word_txt = word.split(\" \")[0].lower()\n",
    "    \n",
    "    \"\"\"\n",
    "    convert word to character format\n",
    "    so if word is TREE, then create a str of the following format:\n",
    "    TREE t r e e | \n",
    "    \n",
    "    The vocabulary consists of characters as well as the following punctuation marks: '!', ',', '.', '?', \"'\", \n",
    "    Skip all words that contain numbers\n",
    "    \n",
    "    Once you have created the string, append it to the lexicon.\n",
    "    \"\"\"\n",
    "\n",
    "    # Check if the word contains any numbers\n",
    "    if any(char.isdigit() for char in word_txt):\n",
    "        continue  # Skip this word if it has numbers\n",
    "    \n",
    "    if any(char not in allowed_chars for char in word_txt):\n",
    "        continue\n",
    "\n",
    "\n",
    "    # Get the lowercase version of the word\n",
    "    lower_chars = word_txt.lower()\n",
    "    \n",
    "    # Create the spaced-out character string\n",
    "    spaced_chars = \" \".join(lower_chars)\n",
    "    \n",
    "    # Format the final string as required\n",
    "    formatted_string = f\"{word_txt} {spaced_chars} |\"\n",
    "    \n",
    "    # Append the formatted string to the lexicon\n",
    "    lexicon_char.append(formatted_string)\n",
    "    \n",
    "    \n",
    "lexicon_char_file= f\"{language_model_path}lexicon_char.txt\"\n",
    "\n",
    "with open(lexicon_char_file, mode=\"w\") as file:\n",
    "    \n",
    "    for item in lexicon_char:\n",
    "\n",
    "        file.write(f\"{item}\\n\")\n",
    "\n"
   ]
  },
  {
   "cell_type": "code",
   "execution_count": 47,
   "metadata": {},
   "outputs": [
    {
     "data": {
      "text/plain": [
       "'alvita a l v i t a |'"
      ]
     },
     "execution_count": 47,
     "metadata": {},
     "output_type": "execute_result"
    }
   ],
   "source": [
    "lexicon_char[3000]"
   ]
  },
  {
   "cell_type": "code",
   "execution_count": 45,
   "metadata": {},
   "outputs": [
    {
     "data": {
      "text/plain": [
       "'AAKER AA K ER |'"
      ]
     },
     "execution_count": 45,
     "metadata": {},
     "output_type": "execute_result"
    }
   ],
   "source": [
    "lexicon[10]"
   ]
  },
  {
   "cell_type": "code",
   "execution_count": null,
   "metadata": {},
   "outputs": [],
   "source": []
  }
 ],
 "metadata": {
  "kernelspec": {
   "display_name": ".venv",
   "language": "python",
   "name": "python3"
  },
  "language_info": {
   "codemirror_mode": {
    "name": "ipython",
    "version": 3
   },
   "file_extension": ".py",
   "mimetype": "text/x-python",
   "name": "python",
   "nbconvert_exporter": "python",
   "pygments_lexer": "ipython3",
   "version": "3.12.2"
  },
  "orig_nbformat": 4
 },
 "nbformat": 4,
 "nbformat_minor": 2
}
