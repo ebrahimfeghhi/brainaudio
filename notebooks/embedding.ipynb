{
 "cells": [
  {
   "cell_type": "code",
   "execution_count": 5,
   "id": "91891b73",
   "metadata": {},
   "outputs": [],
   "source": [
    "import pandas as pd\n",
    "import numpy as np\n",
    "import torch\n",
    "import torch.nn as nn\n",
    "from transformers import AutoTokenizer,  AutoModelForCausalLM \n",
    "from trl import SFTTrainer"
   ]
  },
  {
   "cell_type": "code",
   "execution_count": null,
   "id": "11be7b6d",
   "metadata": {},
   "outputs": [],
   "source": [
    "access_token = \"\"\n",
    "\n",
    "model_name = \"google/gemma-3-270m\"\n",
    "model = AutoModelForCausalLM.from_pretrained(model_name, dtype=torch.float16, token=access_token)\n",
    "tokenizer = AutoTokenizer.from_pretrained(model_name, token=access_token)"
   ]
  },
  {
   "cell_type": "code",
   "execution_count": 32,
   "id": "d1f002ba",
   "metadata": {},
   "outputs": [
    {
     "name": "stdout",
     "output_type": "stream",
     "text": [
      "['hello', '▁world', '!']\n",
      "262144\n",
      "<bos>hello world!\n",
      "torch.Size([262144, 640])\n",
      "Input IDs shape: torch.Size([4])\n",
      "Embeddings shape: torch.Size([4, 640])\n",
      "tensor([[-0.3613,  0.2703,  0.3381,  ..., -0.1537,  0.0787, -1.7783],\n",
      "        [-0.2115,  1.2354,  1.0010,  ...,  0.2223,  1.1553, -1.8652],\n",
      "        [ 0.2069, -0.0467,  0.4878,  ..., -0.0540,  0.7349, -0.1143],\n",
      "        [ 0.7598, -0.7690, -0.2269,  ..., -1.0439,  1.7666,  0.3074]],\n",
      "       dtype=torch.float16, grad_fn=<MulBackward0>) torch.Size([4, 640])\n"
     ]
    }
   ],
   "source": [
    "word = 'hello world!'\n",
    "id = tokenizer(word)\n",
    "print(tokenizer.tokenize(word))\n",
    "print(tokenizer.vocab_size)\n",
    "print(tokenizer.decode(tokenizer.encode(word)))\n",
    "\n",
    "embedding = model.get_input_embeddings()\n",
    "print(embedding.weight.shape)\n",
    "# Fix: Extract input_ids from BatchEncoding and convert to tensor\n",
    "input_ids = torch.tensor(id['input_ids'])\n",
    "print(f\"Input IDs shape: {input_ids.shape}\")\n",
    "print(f\"Embeddings shape: {embedding(input_ids).shape}\")\n",
    "emb = embedding(input_ids)\n",
    "print(emb, emb.shape)\n"
   ]
  },
  {
   "cell_type": "code",
   "execution_count": null,
   "id": "15e5186e",
   "metadata": {},
   "outputs": [
    {
     "name": "stdout",
     "output_type": "stream",
     "text": [
      "<bos>\n",
      "<eos>\n",
      "<pad>\n",
      "<unk>\n"
     ]
    }
   ],
   "source": [
    "print(tokenizer.bos_token)\n",
    "print(tokenizer.eos_token)\n",
    "print(tokenizer.pad_token)\n",
    "print(tokenizer.unk_token)"
   ]
  },
  {
   "cell_type": "code",
   "execution_count": null,
   "id": "a33ec2ca",
   "metadata": {},
   "outputs": [],
   "source": [
    "# testing llm input"
   ]
  }
 ],
 "metadata": {
  "kernelspec": {
   "display_name": ".venv",
   "language": "python",
   "name": "python3"
  },
  "language_info": {
   "codemirror_mode": {
    "name": "ipython",
    "version": 3
   },
   "file_extension": ".py",
   "mimetype": "text/x-python",
   "name": "python",
   "nbconvert_exporter": "python",
   "pygments_lexer": "ipython3",
   "version": "3.12.11"
  }
 },
 "nbformat": 4,
 "nbformat_minor": 5
}
