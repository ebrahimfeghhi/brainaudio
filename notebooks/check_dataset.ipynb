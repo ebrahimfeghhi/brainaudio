{
 "cells": [
  {
   "cell_type": "code",
   "execution_count": 1,
   "metadata": {},
   "outputs": [],
   "source": [
    "import pandas as pd"
   ]
  },
  {
   "cell_type": "code",
   "execution_count": 2,
   "metadata": {},
   "outputs": [],
   "source": [
    "char_dataset = pd.read_pickle(\"/data2/brain2text/b2t_24/brain2text24_with_fa_char\")"
   ]
  },
  {
   "cell_type": "code",
   "execution_count": 6,
   "metadata": {},
   "outputs": [
    {
     "data": {
      "text/plain": [
       "dict_keys(['sentenceDat', 'transcriptions', 'text', 'blockNums', 'timeSeriesLens', 'textLens', 'textPerTime', 'forced_alignments', 'textC', 'textLensC'])"
      ]
     },
     "execution_count": 6,
     "metadata": {},
     "output_type": "execute_result"
    }
   ],
   "source": [
    "char_dataset['train'][0].keys()"
   ]
  },
  {
   "cell_type": "code",
   "execution_count": 17,
   "metadata": {},
   "outputs": [],
   "source": [
    "char_dataset['train'][10][\"transcriptions\"][30]\n",
    "characters = char_dataset['train'][10][\"textC\"][30]"
   ]
  },
  {
   "cell_type": "code",
   "execution_count": 19,
   "metadata": {},
   "outputs": [
    {
     "name": "stdout",
     "output_type": "stream",
     "text": [
      "['<sp>', '!', ',', '.', '?', \"'\", 'a', 'b', 'c', 'd', 'e', 'f', 'g', 'h', 'i', 'j', 'k', 'l', 'm', 'n', 'o', 'p', 'q', 'r', 's', 't', 'u', 'v', 'w', 'x', 'y', 'z']\n",
      "b\n",
      "u\n",
      "s\n",
      "i\n",
      "n\n",
      "e\n",
      "s\n",
      "s\n",
      "|\n",
      "a\n",
      "s\n",
      "|\n",
      "u\n",
      "s\n",
      "u\n",
      "a\n",
      "l\n",
      "|\n",
      "f\n",
      "o\n",
      "r\n",
      "|\n",
      "t\n",
      "r\n",
      "a\n",
      "d\n",
      "e\n",
      "r\n",
      "s\n",
      "|\n"
     ]
    }
   ],
   "source": [
    "CHAR_VOCAB = [\n",
    "    \"<sp>\",          # space token\n",
    "    \"!\", \",\", \".\", \"?\", \"'\",   # punctuation (incl. apostrophe)\n",
    "] + [chr(i) for i in range(ord('a'), ord('z') + 1)]  # 'a'..'z'\n",
    "\n",
    "# Build mappings\n",
    "_CHAR_TO_ID = {c: i for i, c in enumerate(CHAR_VOCAB)}\n",
    "_ID_TO_CHAR = {i: c for c, i in _CHAR_TO_ID.items()}\n",
    "\n",
    "# Convenience indices\n",
    "SPACE_ID = _CHAR_TO_ID[\"<sp>\"]\n",
    "\n",
    "print(CHAR_VOCAB)\n",
    "\n",
    "\n",
    "character_units = [\"-\"]\n",
    "for cv in CHAR_VOCAB:\n",
    "    \n",
    "    if cv == \"<sp>\":\n",
    "        character_units.append(\"|\")\n",
    "    else:\n",
    "        character_units.append(cv)\n",
    "        \n",
    "string = \"\"\n",
    "for c in characters:\n",
    "    if c > 1:\n",
    "        string += character_units[c]\n",
    "    if c == 1:\n",
    "        string += \" \"\n",
    "        "
   ]
  },
  {
   "cell_type": "code",
   "execution_count": null,
   "metadata": {},
   "outputs": [],
   "source": []
  }
 ],
 "metadata": {
  "kernelspec": {
   "display_name": ".venv",
   "language": "python",
   "name": "python3"
  },
  "language_info": {
   "codemirror_mode": {
    "name": "ipython",
    "version": 3
   },
   "file_extension": ".py",
   "mimetype": "text/x-python",
   "name": "python",
   "nbconvert_exporter": "python",
   "pygments_lexer": "ipython3",
   "version": "3.12.2"
  },
  "orig_nbformat": 4
 },
 "nbformat": 4,
 "nbformat_minor": 2
}
