{
 "cells": [
  {
   "cell_type": "code",
   "execution_count": 1,
   "metadata": {},
   "outputs": [],
   "source": [
    "# do a hacky import since brainaudio requires python 3.12 and the .wfst env requires an older\n",
    "# python version \n",
    "from wfst_utils import build_lm_decoder, lm_decode, arrange_logits, _cer_and_wer\n",
    "import sys\n",
    "import numpy as np\n",
    "import pandas as pd"
   ]
  },
  {
   "cell_type": "code",
   "execution_count": 2,
   "metadata": {},
   "outputs": [],
   "source": [
    "load_lm = True"
   ]
  },
  {
   "cell_type": "code",
   "execution_count": 3,
   "metadata": {},
   "outputs": [],
   "source": [
    "logits_b2t_24 = pd.read_pickle(\"/data2/brain2text/b2t_24/tm_transformer_b2t_24+25_large_wide/logits_val.pkl\")\n",
    "logits_b2t_25 = pd.read_pickle(\"/data2/brain2text/b2t_25/tm_transformer_b2t_24+25_large_wide/logits_val.pkl\")"
   ]
  },
  {
   "cell_type": "code",
   "execution_count": 5,
   "metadata": {},
   "outputs": [
    {
     "name": "stdout",
     "output_type": "stream",
     "text": [
      "loaded LM\n"
     ]
    },
    {
     "name": "stderr",
     "output_type": "stream",
     "text": [
      "WARNING: Logging before InitGoogleLogging() is written to STDERR\n",
      "I1013 16:39:51.782960 600832 brain_speech_decoder.h:52] Reading fst /data2/brain2text/languageModel/TLG.fst\n",
      "I1013 16:42:41.867743 600832 brain_speech_decoder.h:81] Reading symbol table /data2/brain2text/languageModel/words.txt\n"
     ]
    }
   ],
   "source": [
    "lmDir = \"/data2/brain2text/languageModel\"\n",
    "acoustic_scale = 0.8\n",
    "nbest = 1\n",
    "blank_penalty = np.log(2)\n",
    "return_n_best = False\n",
    "rescore = False\n",
    "nbest = 1\n",
    "\n",
    "if load_lm and 'ngramDecoder' not in globals(): \n",
    "    \n",
    "    ngramDecoder = build_lm_decoder(\n",
    "        lmDir,\n",
    "        acoustic_scale=acoustic_scale, #1.2\n",
    "        nbest=nbest,\n",
    "        beam=18\n",
    "    )\n",
    "    print(\"loaded LM\")"
   ]
  },
  {
   "cell_type": "code",
   "execution_count": 6,
   "metadata": {},
   "outputs": [],
   "source": [
    "decoded_text_outputs = []\n",
    "\n",
    "for logits in logits_b2t_24:\n",
    "    \n",
    "    rearranged_logits = arrange_logits(logits)\n",
    "    \n",
    "    decoded_text = lm_decode(\n",
    "                    ngramDecoder,\n",
    "                    rearranged_logits[0],\n",
    "                    blankPenalty=blank_penalty,\n",
    "                    returnNBest=return_n_best,\n",
    "                    rescore=rescore,\n",
    "                )\n",
    "    \n",
    "    decoded_text_outputs.append(decoded_text.strip())"
   ]
  },
  {
   "cell_type": "code",
   "execution_count": 14,
   "metadata": {},
   "outputs": [
    {
     "data": {
      "text/plain": [
       "'theocracy reconsidered'"
      ]
     },
     "execution_count": 14,
     "metadata": {},
     "output_type": "execute_result"
    }
   ],
   "source": [
    "transcripts_24 = pd.read_pickle(\"/data2/brain2text/b2t_24/transcripts_val.pkl\")\n",
    "transcripts_24[0]"
   ]
  },
  {
   "cell_type": "code",
   "execution_count": 16,
   "metadata": {},
   "outputs": [
    {
     "data": {
      "text/plain": [
       "(np.float64(0.12274668790270035), np.float64(0.18967084924531732))"
      ]
     },
     "execution_count": 16,
     "metadata": {},
     "output_type": "execute_result"
    }
   ],
   "source": [
    "_cer_and_wer(decoded_text_outputs, transcripts_24)"
   ]
  }
 ],
 "metadata": {
  "kernelspec": {
   "display_name": ".wfst",
   "language": "python",
   "name": "python3"
  },
  "language_info": {
   "codemirror_mode": {
    "name": "ipython",
    "version": 3
   },
   "file_extension": ".py",
   "mimetype": "text/x-python",
   "name": "python",
   "nbconvert_exporter": "python",
   "pygments_lexer": "ipython3",
   "version": "3.9.24"
  },
  "orig_nbformat": 4
 },
 "nbformat": 4,
 "nbformat_minor": 2
}
